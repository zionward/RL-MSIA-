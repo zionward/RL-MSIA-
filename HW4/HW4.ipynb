{
 "cells": [
  {
   "cell_type": "code",
   "execution_count": 25,
   "metadata": {},
   "outputs": [],
   "source": [
    "import numpy as np\n",
    "import matplotlib.pyplot as plt\n",
    "%matplotlib inline\n",
    "import pandas as pd\n",
    "import tensorflow as tf"
   ]
  },
  {
   "cell_type": "code",
   "execution_count": 35,
   "metadata": {},
   "outputs": [],
   "source": [
    "def sample_jester_data(file_name, context_dim = 32, num_actions = 8, num_contexts = 19181,\n",
    "                       shuffle_rows=True, shuffle_cols=False):\n",
    "    \"\"\"Samples bandit game from (user, joke) dense subset of Jester dataset.\n",
    "    Args:\n",
    "        file_name: Route of file containing the modified Jester dataset.\n",
    "        context_dim: Context dimension (i.e. vector with some ratings from a user).\n",
    "        num_actions: Number of actions (number of joke ratings to predict).\n",
    "        num_contexts: Number of contexts to sample.\n",
    "        shuffle_rows: If True, rows from original dataset are shuffled.\n",
    "        shuffle_cols: Whether or not context/action jokes are randomly shuffled.\n",
    "    Returns:\n",
    "        dataset: Sampled matrix with rows: (context, rating_1, ..., rating_k).\n",
    "        opt_vals: Vector of deterministic optimal (reward, action) for each context.\n",
    "    \"\"\"\n",
    "    np.random.seed(0)\n",
    "    \n",
    "    with tf.gfile.Open(file_name, 'rb') as f:\n",
    "        dataset = np.load(f)\n",
    "        \n",
    "    if shuffle_cols:\n",
    "        dataset = dataset[:, np.random.permutation(dataset.shape[1])]\n",
    "    if shuffle_rows:\n",
    "        np.random.shuffle(dataset)\n",
    "    dataset = dataset[:num_contexts, :]\n",
    "        \n",
    "    assert context_dim + num_actions == dataset.shape[1], 'Wrong data dimensions.'\n",
    "    \n",
    "    opt_actions = np.argmax(dataset[:, context_dim:], axis=1)\n",
    "    opt_rewards = np.array([dataset[i, context_dim + a] for i, a in enumerate(opt_actions)])\n",
    "    \n",
    "    return dataset, opt_rewards, opt_actions"
   ]
  },
  {
   "cell_type": "code",
   "execution_count": 36,
   "metadata": {},
   "outputs": [],
   "source": [
    "# select max value with random tie breaking\n",
    "def epsilon_select(arr, eps):\n",
    "    test_val = np.random.rand()\n",
    "    max_ep = None\n",
    "    if test_val < eps:\n",
    "        max_ep = np.random.randint(len(arr))\n",
    "    else:\n",
    "        max_val = np.max(arr)\n",
    "        max_args = np.flatnonzero(np.array(arr == max_val))\n",
    "        max_ep = np.random.choice(max_args)\n",
    "    return max_ep"
   ]
  },
  {
   "cell_type": "code",
   "execution_count": 37,
   "metadata": {},
   "outputs": [],
   "source": [
    "dataset, opt_rewards, opt_actions = sample_jester_data('jester_data_40jokes_19181users.npy')"
   ]
  },
  {
   "cell_type": "markdown",
   "metadata": {},
   "source": [
    "### 1) Apply the UCB algorithm to the first 18000 rows of the data"
   ]
  },
  {
   "cell_type": "code",
   "execution_count": 38,
   "metadata": {},
   "outputs": [],
   "source": [
    "train_data, train_opt_reward, train_actions = dataset[:18000,:], opt_rewards[:18000], opt_actions[:18000]\n",
    "test_data, test_opt_reward, test_actions = dataset[18000:,:], opt_rewards[18000:], opt_actions[18000:]"
   ]
  },
  {
   "cell_type": "code",
   "execution_count": 39,
   "metadata": {},
   "outputs": [],
   "source": [
    "context_size = 32 # context dim\n",
    "arms = 8 #actions\n",
    "alpha = 0.5\n",
    "theta = np.random.normal(size = (arms, context_size)) # random theta initialization\n",
    "\n",
    "# Matrix initialization\n",
    "A = np.array([np.identity(context_size) for _ in range(arms)])\n",
    "b = np.zeros(shape = (arms, context_size))\n",
    "\n"
   ]
  },
  {
   "cell_type": "code",
   "execution_count": 44,
   "metadata": {},
   "outputs": [],
   "source": [
    "earned_rewards = []\n",
    "train_regret = []\n",
    "\n",
    "for i in range(len(train_data)): \n",
    "    \n",
    "    eps = np.exp(-0.0001*i)\n",
    "    context = train_data[i][:context_size] # X\n",
    "    obs = train_data[i][context_size:] # y\n",
    "    \n",
    "    pred_upper = [] # track predicted rewards\n",
    "    for j in range(arms):\n",
    "        A_prime = np.linalg.inv(A[j])\n",
    "        theta[j] = np.matmul(A_prime, b[j])\n",
    "        \n",
    "        expected_val = np.matmul(np.transpose(theta[j]), context)\n",
    "        cb = alpha * np.sqrt(np.matmul(np.matmul(np.transpose(context), A_prime), context))\n",
    "        pred_upper.append(expected_val + cb)\n",
    "    \n",
    "    max_ep = epsilon_select(pred_upper, eps)\n",
    "    A[max_ep] = A[max_ep] + np.matmul(context, np.transpose(context))\n",
    "    b[max_ep] = b[max_ep] + obs[max_ep] * context\n",
    "    \n",
    "    user_regret = train_opt_reward[i] - obs[max_ep]\n",
    "    train_regret.append(user_regret)\n",
    "    earned_rewards.append(obs[max_ep])"
   ]
  },
  {
   "cell_type": "code",
   "execution_count": 45,
   "metadata": {},
   "outputs": [
    {
     "data": {
      "text/plain": [
       "Text(0.5, 1.0, 'Avg Reward')"
      ]
     },
     "execution_count": 45,
     "metadata": {},
     "output_type": "execute_result"
    },
    {
     "data": {
      "image/png": "[encoded data removed]",
      "text/plain": [
       "<Figure size 432x288 with 1 Axes>"
      ]
     },
     "metadata": {
      "needs_background": "light"
     },
     "output_type": "display_data"
    }
   ],
   "source": [
    "rew = pd.DataFrame(earned_rewards)\n",
    "rew.columns = ['Reward']\n",
    "rew.rolling(1000).mean().plot()\n",
    "plt.title(\"Avg Reward\")\n"
   ]
  },
  {
   "cell_type": "markdown",
   "metadata": {},
   "source": [
    "### 2) Evaluate the trained model on the remaining rows of the data and plot the regret for them."
   ]
  },
  {
   "cell_type": "code",
   "execution_count": 46,
   "metadata": {},
   "outputs": [],
   "source": [
    "regret = [] #track regret\n",
    "for i in range(len(test_data)):\n",
    "    context = test_data[i][:context_size] # X\n",
    "    obs = test_data[i][context_size:] # y\n",
    "    \n",
    "    pred_upper = [] # track predicted rewards\n",
    "    for j in range(arms):\n",
    "        A_prime = np.linalg.inv(A[j])\n",
    "        theta[j] = np.matmul(A_prime, b[j])\n",
    "        \n",
    "        expected_val = np.matmul(np.transpose(theta[j]), context)\n",
    "        cb = alpha * np.sqrt(np.matmul(np.matmul(np.transpose(context), A_prime), context))\n",
    "        pred_upper.append(expected_val + cb)\n",
    "    \n",
    "    max_ep = epsilon_select(pred_upper, 1) # with eps=1, this is always on-policy\n",
    "    user_regret = np.max(obs) - obs[max_ep]\n",
    "    regret.append(user_regret)"
   ]
  },
  {
   "cell_type": "code",
   "execution_count": 47,
   "metadata": {},
   "outputs": [
    {
     "name": "stdout",
     "output_type": "stream",
     "text": [
      "Average Regret:  4.762658763759527\n"
     ]
    },
    {
     "data": {
      "image/png": "[encoded data removed]",
      "text/plain": [
       "<Figure size 432x288 with 1 Axes>"
      ]
     },
     "metadata": {
      "needs_background": "light"
     },
     "output_type": "display_data"
    }
   ],
   "source": [
    "# regret hist\n",
    "print('Average Regret: ', np.mean(regret))\n",
    "plt.hist(regret)\n",
    "plt.title('Regret Histogram')\n",
    "plt.xlabel('Regret')\n",
    "plt.ylabel('Freq')\n",
    "plt.show()"
   ]
  },
  {
   "cell_type": "code",
   "execution_count": null,
   "metadata": {},
   "outputs": [],
   "source": []
  }
 ],
 "metadata": {
  "kernelspec": {
   "display_name": "Python (dl)",
   "language": "python",
   "name": "dl"
  },
  "language_info": {
   "codemirror_mode": {
    "name": "ipython",
    "version": 3
   },
   "file_extension": ".py",
   "mimetype": "text/x-python",
   "name": "python",
   "nbconvert_exporter": "python",
   "pygments_lexer": "ipython3",
   "version": "3.6.8"
  }
 },
 "nbformat": 4,
 "nbformat_minor": 2
}
