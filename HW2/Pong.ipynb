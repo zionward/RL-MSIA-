{
 "cells": [
  {
   "cell_type": "markdown",
   "metadata": {},
   "source": [
    "# Homework 2 \n",
    "### Ziying Wang"
   ]
  },
  {
   "cell_type": "markdown",
   "metadata": {},
   "source": [
    "## Question 2 Pong-V0"
   ]
  },
  {
   "cell_type": "code",
   "execution_count": 49,
   "metadata": {
    "collapsed": true
   },
   "outputs": [],
   "source": [
    "import gym\n",
    "import random\n",
    "import numpy as np\n",
    "import tensorflow as tf\n",
    "#import tflearn\n",
    "#from tflearn.layers.core import input_data, dropout, fully_connected\n",
    "#from tflearn.layers.estimator import regression\n",
    "#from statistics import mean, median\n",
    "from collections import Counter\n",
    "import matplotlib.pyplot as plt\n",
    "%matplotlib inline"
   ]
  },
  {
   "cell_type": "code",
   "execution_count": 114,
   "metadata": {},
   "outputs": [],
   "source": [
    "#Baseline\n",
    "class Baseline():\n",
    "    def __init__(self, learning_rate=0.01, state_size=6400, action_size=2, output_size=1, \n",
    "                 hidden_state_size=16, name=\"Baseline\"):\n",
    "        with tf.name_scope(name):\n",
    "            self.input_state = tf.placeholder(tf.float32, [None, 80, 80, 2], name = \"input\")\n",
    "            self.reward_ = tf.placeholder(tf.float32, [None, ], name = \"discounted_episodes_rewards\")\n",
    "            self.conv1 = tf.layers.conv2d(self.input_state, filters = 3, kernel_size = 5, \n",
    "                                        activation = tf.nn.relu, \n",
    "                                        kernel_initializer = tf.contrib.layers.xavier_initializer(),\n",
    "                                        name = 'features',\n",
    "                                        reuse=True\n",
    "                                        )\n",
    "            self.pool = tf.layers.max_pooling2d(inputs = self.conv1, pool_size = [2,2], strides=2)\n",
    "            self.pool_flat = tf.reshape(self.pool, [-1, 38*38*3])\n",
    "            \n",
    "            self.fc1 = tf.contrib.layers.fully_connected(self.pool_flat, hidden_state_size, \n",
    "                                                        weights_initializer = tf.contrib.layers.xavier_initializer())\n",
    "            self.fc2 = tf.contrib.layers.fully_connected(self.fc1, hidden_state_size, \n",
    "                                                        weights_initializer = tf.contrib.layers.xavier_initializer())\n",
    "            self.fc3 = tf.contrib.layers.fully_connected(self.fc2, 1, \n",
    "                                                        weights_initializer = tf.contrib.layers.xavier_initializer())\n",
    "        \n",
    "        with tf.name_scope(\"baseline_train\"):\n",
    "            self.loss = tf.reduce_mean(tf.square(self.fc3 - self.reward_))\n",
    "            self.train = tf.train.AdamOptimizer(learning_rate).minimize(self.loss)\n",
    "            "
   ]
  },
  {
   "cell_type": "code",
   "execution_count": 115,
   "metadata": {
    "collapsed": true
   },
   "outputs": [],
   "source": [
    "def preprocess(image):\n",
    "    \"\"\" prepro 210x160x3 uint8 frame into 6400 (80x80) 2D float array \"\"\"\n",
    "    image = image[35:195] # crop\n",
    "    image = image[::2,::2,0] # downsample by factor of 2\n",
    "    image[image == 144] = 0 # erase background (background type 1)\n",
    "    image[image == 109] = 0 # erase background (background type 2)\n",
    "    image[image != 0] = 1 # everything else (paddles, ball) just set to 1\n",
    "    return np.reshape(image.astype(np.float).ravel(), [80,80])"
   ]
  },
  {
   "cell_type": "code",
   "execution_count": 116,
   "metadata": {
    "collapsed": true
   },
   "outputs": [],
   "source": [
    "def discount_rewards(r):\n",
    "    discounted_r = np.zeros_like(r)\n",
    "    running_add = 0.0\n",
    "    for i in reversed(range(len(r))):\n",
    "        running_add = running_add * gamma + r[i]\n",
    "        discounted_r[i] = running_add\n",
    "    discounted_r -= np.mean(discounted_r)\n",
    "    discounted_r /= np.std(discounted_r)\n",
    "    return discounted_r"
   ]
  },
  {
   "cell_type": "code",
   "execution_count": 122,
   "metadata": {},
   "outputs": [],
   "source": [
    "class PolicyGradient():\n",
    "    def __init__(self, learning_rate = 0.01, action_size = 2, hidden_state_size = 16, name = \"PolicyGradient\"):\n",
    "        \n",
    "        with tf.name_scope(name):\n",
    "            self.input_state = tf.placeholder(tf.float32, [None, 80, 80, 2], name = \"input\")\n",
    "            self.actions_ = tf.placeholder(tf.int32, [None, action_size], name = \"actions\")\n",
    "            self.rewards_ = tf.placeholder(tf.float32, [None, ], name = \"discounted_episodes_rewards\")\n",
    "            \n",
    "            self.conv1 = tf.layers.conv2d(self.input_state, filters = 3, kernel_size = 5, activation = tf.nn.relu,\n",
    "                                         kernel_initializer = tf.contrib.layers.xavier_initializer(),name = \"features\")\n",
    "            \n",
    "            self.pool = tf.layers.max_pooling2d(inputs = self.conv1, pool_size = [2,2], strides=2)\n",
    "            self.pool_flat = tf.reshape(self.pool, [-1, 38*38*3])\n",
    "            \n",
    "            self.fc1 = tf.contrib.layers.fully_connected(self.pool_flat, hidden_state_size, \n",
    "                                                        weights_initializer = tf.contrib.layers.xavier_initializer())\n",
    "            self.fc2 = tf.contrib.layers.fully_connected(self.fc1, hidden_state_size, \n",
    "                                                        weights_initializer = tf.contrib.layers.xavier_initializer())\n",
    "            self.fc3 = tf.contrib.layers.fully_connected(self.fc2, action_size, \n",
    "                                                        weights_initializer = tf.contrib.layers.xavier_initializer(),\n",
    "                                                        activation_fn=None)\n",
    "\n",
    "            self.softmax = tf.nn.softmax(self.fc3)\n",
    "        with tf.name_scope(\"loss\"):\n",
    "            self.xentropy = tf.nn.softmax_cross_entropy_with_logits_v2(labels=self.actions_, logits=self.fc3)\n",
    "            self.loss_op = tf.reduce_mean(self.rewards_*self.xentropy)\n",
    "        with tf.name_scope(\"train\"):\n",
    "            self.optimizer = tf.train.GradientDescentOptimizer(learning_rate)\n",
    "            self.train_op = self.optimizer.minimize(self.loss_op)\n",
    "            \n",
    "            "
   ]
  },
  {
   "cell_type": "code",
   "execution_count": 123,
   "metadata": {},
   "outputs": [],
   "source": [
    "\n",
    "env = gym.make('Pong-v0')\n",
    "\n",
    "obs = env.reset()\n",
    "actions = ['RIGHT','LEFT']\n",
    "n_actions = len(actions)\n",
    "gamma = 0.99\n",
    "\n",
    "n_epochs = 2000\n",
    "tf.reset_default_graph()\n",
    "PolicyGradient_nn = PolicyGradient(hidden_state_size=10)\n",
    "baseline_nn = BaselineFunction(hidden_state_size=10)\n",
    "\n",
    "env = gym.make('Pong-v0')\n",
    "env.reset()\n",
    "\n",
    "all_rewards = []\n",
    "saver = tf.train.Saver()\n"
   ]
  },
  {
   "cell_type": "code",
   "execution_count": null,
   "metadata": {},
   "outputs": [],
   "source": [
    "with tf.Session() as sess:\n",
    "    \n",
    "    sess.run(tf.global_variables_initializer())\n",
    "    \n",
    "    for epoch in range(n_epochs):\n",
    "        \n",
    "        \n",
    "        \n",
    "        rewards = []\n",
    "        discounted_rewards = []\n",
    "        observations = []\n",
    "        actions = []\n",
    "        \n",
    "        state = env.reset()\n",
    "        \n",
    "        prev_state = preprocess(state)\n",
    "        curr_state = preprocess(env.step(0)[0])\n",
    "        \n",
    "        epoch_rewards = []\n",
    "        \n",
    "        while True:   \n",
    "            concat_state = np.concatenate((curr_state, prev_state)).reshape([-1, 80, 80, 2])\n",
    "#             print(\"OK?\")\n",
    "#             print(\"prev shape:\", np.concatenate((curr_state, prev_state)).shape)\n",
    "#             print(\"shape: \", concat_state.shape)\n",
    "            action_prob = sess.run(PolicyGradient_nn.softmax, feed_dict={PolicyGradient_nn.input_state:concat_state})\n",
    "#             print(\"debug\")\n",
    "            action = np.random.choice(range(n_actions), p=action_prob.ravel())\n",
    "            one_hot_action = np.zeros(n_actions)\n",
    "            one_hot_action[action] = 1\n",
    "            obs, reward, done, info = env.step(2 + action)\n",
    "            rewards.append(reward)\n",
    "            observations.append(state)\n",
    "            actions.append(action)\n",
    "            \n",
    "            rewards.append(reward)\n",
    "            observations.append(concat_state)\n",
    "            actions.append(one_hot_action)\n",
    "            \n",
    "            prev_state = curr_state\n",
    "            curr_state = preprocess(obs)\n",
    "            \n",
    "            if done:\n",
    "                discounted_reward = discount_rewards(rewards)\n",
    "                \n",
    "                baseline_ = sess.run(baseline_nn.fc3, feed_dict = {baseline_nn.inputs_: np.vstack(observations)})\n",
    "                b = discounted_reward - np.hstack(baseline_)\n",
    "                \n",
    "                _,_ = sess.run([baseline_nn.loss, baseline_nn.train],\n",
    "                               feed_dict = {baseline_nn.input_state: np.vstack(np.array(observations)),\n",
    "                                           baseline_nn.reward_:discounted_reward\n",
    "                                           }) \n",
    "                \n",
    "                _,_ = sess.run([policy_network.loss, policy_network.train], \n",
    "                                    feed_dict={PolicyGradient_nn.input_state: np.vstack(observations),\n",
    "                                                                 PolicyGradient_nn.actions_: actions,\n",
    "                                                                 PolicyGradient_nn.reward_: b\n",
    "                                                                })\n",
    "                break\n",
    "            \n",
    "            state = obs\n",
    "            \n",
    "        all_rewards.append(sum(rewards))\n",
    "        \n",
    "        if epoch % 100 == 0:\n",
    "            with open('result.txt','a') as f:\n",
    "                f.write(\"\\n Epoch: %s    Length: %s    Reward: %s    L50 Reward: %s\" %(epoch, len(rewards), all_rewards[epoch], np.mean(all_rewards[epoch-50:epoch])))\n",
    "        "
   ]
  },
  {
   "cell_type": "code",
   "execution_count": 1,
   "metadata": {
    "collapsed": true
   },
   "outputs": [],
   "source": [
    "import re\n",
    "import matplotlib.pyplot as plt"
   ]
  },
  {
   "cell_type": "code",
   "execution_count": 8,
   "metadata": {
    "collapsed": true
   },
   "outputs": [],
   "source": [
    "with open('result.txt') as f:\n",
    "    lines = f.readlines()[1:]\n",
    "    \n",
    "epoch = [re.findall('L50 Reward: ([0-9.-]*)', x) for x in lines]\n",
    "avg_reward = [re.findall('L50 Reward: ([0-9.-]*)', x) for x in lines]\n",
    "epochs = [int(x.split()[1]) for x in lines]\n",
    "game_len = [int(x.split()[3]) for x in lines]\n",
    "avg_reward = [float(x.split()[8]) for x in lines]"
   ]
  },
  {
   "cell_type": "code",
   "execution_count": 12,
   "metadata": {},
   "outputs": [
    {
     "data": {
      "text/plain": [
       "Text(0, 0.5, 'Moving Average Reward (Last 50)')"
      ]
     },
     "execution_count": 12,
     "metadata": {},
     "output_type": "execute_result"
    },
    {
     "data": {
      "image/png": "[encoded data removed]",
      "text/plain": [
       "<Figure size 432x288 with 1 Axes>"
      ]
     },
     "metadata": {
      "needs_background": "light"
     },
     "output_type": "display_data"
    }
   ],
   "source": [
    "plt.plot(epochs, avg_reward)\n",
    "plt.xlabel('Epochs')\n",
    "plt.ylabel('Moving Average Reward (Last 50)')"
   ]
  },
  {
   "cell_type": "code",
   "execution_count": null,
   "metadata": {
    "collapsed": true
   },
   "outputs": [],
   "source": []
  }
 ],
 "metadata": {
  "kernelspec": {
   "display_name": "Python (dl)",
   "language": "python",
   "name": "dl"
  },
  "language_info": {
   "codemirror_mode": {
    "name": "ipython",
    "version": 3
   },
   "file_extension": ".py",
   "mimetype": "text/x-python",
   "name": "python",
   "nbconvert_exporter": "python",
   "pygments_lexer": "ipython3",
   "version": "3.6.8"
  }
 },
 "nbformat": 4,
 "nbformat_minor": 2
}
