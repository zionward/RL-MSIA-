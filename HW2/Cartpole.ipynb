{
 "cells": [
  {
   "cell_type": "markdown",
   "metadata": {},
   "source": [
    "# Homework 2 \n",
    "### Ziying Wang"
   ]
  },
  {
   "cell_type": "markdown",
   "metadata": {},
   "source": [
    "## Question 1 -- Cartpole-v0"
   ]
  },
  {
   "cell_type": "code",
   "execution_count": 1,
   "metadata": {
    "collapsed": true
   },
   "outputs": [],
   "source": [
    "import gym\n",
    "import random\n",
    "import numpy as np\n",
    "import tensorflow as tf\n",
    "#import tflearn\n",
    "#from tflearn.layers.core import input_data, dropout, fully_connected\n",
    "#from tflearn.layers.estimator import regression\n",
    "#from statistics import mean, median\n",
    "from collections import Counter\n",
    "import matplotlib.pyplot as plt\n",
    "%matplotlib inline"
   ]
  },
  {
   "cell_type": "code",
   "execution_count": 6,
   "metadata": {},
   "outputs": [
    {
     "name": "stdout",
     "output_type": "stream",
     "text": [
      "\u001b[33mWARN: gym.spaces.Box autodetected dtype as <class 'numpy.float32'>. Please provide explicit dtype.\u001b[0m\n"
     ]
    },
    {
     "name": "stderr",
     "output_type": "stream",
     "text": [
      "/Users/ziyingwang/anaconda3/envs/dl/lib/python3.6/site-packages/gym/envs/registration.py:14: PkgResourcesDeprecationWarning: Parameters to load are deprecated.  Call .resolve and .require separately.\n",
      "  result = entry_point.load(False)\n"
     ]
    }
   ],
   "source": [
    "env = gym.make('CartPole-v0')\n",
    "env.reset()\n",
    "LR = 0.05\n",
    "gamma = 0.95\n",
    "H = 10 #hidden layer neurons\n",
    "n_epochs = 5000\n",
    "state_size = 4 # input dimensionality\n",
    "C = 2 # class number\n",
    "n_actions = env.action_space.n"
   ]
  },
  {
   "cell_type": "code",
   "execution_count": 7,
   "metadata": {
    "collapsed": true
   },
   "outputs": [],
   "source": [
    "def discount_rewards(r):\n",
    "    discounted_r = np.zeros_like(r)\n",
    "    running_add = 0.0\n",
    "    for i in reversed(range(len(r))):\n",
    "        running_add = running_add * gamma + r[i]\n",
    "        discounted_r[i] = running_add\n",
    "    discounted_r -= np.mean(discounted_r)\n",
    "    discounted_r /= np.std(discounted_r)\n",
    "    return discounted_r"
   ]
  },
  {
   "cell_type": "code",
   "execution_count": 8,
   "metadata": {},
   "outputs": [],
   "source": [
    "tf.reset_default_graph()\n",
    "\n",
    "with tf.name_scope(\"input\"):\n",
    "    input_state_ = tf.placeholder(tf.float32, shape = (None, state_size), name=\"input_state\")\n",
    "    action_ = tf.placeholder(tf.int32, shape = None, name=\"action\")\n",
    "    reward_ = tf.placeholder(tf.float32,shape = None, name=\"reward\")\n",
    "\n",
    "with tf.name_scope(\"layers\"):\n",
    "    hidden1 = tf.layers.dense(input_state_, H, name = \"hidden1\", activation = tf.nn.relu, kernel_initializer = tf.contrib.layers.xavier_initializer())\n",
    "    hidden2 = tf.layers.dense(hidden1, H, name = \"hidden2\", activation = tf.nn.relu, kernel_initializer = tf.contrib.layers.xavier_initializer()) \n",
    "\n",
    "    logits = tf.layers.dense(hidden2, n_actions)\n",
    "    y_prob = tf.nn.softmax(logits)\n",
    "\n",
    "with tf.name_scope('loss'):\n",
    "    xentropy = tf.nn.sparse_softmax_cross_entropy_with_logits(labels=action_, logits=logits)\n",
    "    loss_op = tf.reduce_mean(xentropy*reward_)\n",
    "#     loss_op = tf.reduce_mean((tf.nn.softmax_cross_entropy_with_logits_v2(labels=action_, logits=logits))*reward_) \n",
    "\n",
    "with tf.name_scope(\"train\"):\n",
    "    optimizer = tf.train.GradientDescentOptimizer(learning_rate=LR)\n",
    "    train_op = optimizer.minimize(loss_op, global_step=tf.train.get_global_step())\n",
    "\n",
    "\n"
   ]
  },
  {
   "cell_type": "code",
   "execution_count": 9,
   "metadata": {},
   "outputs": [
    {
     "name": "stdout",
     "output_type": "stream",
     "text": [
      "epoch: 0 , Reward: nan Max Reward: 21.0\n",
      "epoch: 500 , Reward: 57.36 Max Reward: 189.0\n",
      "epoch: 1000 , Reward: 167.65 Max Reward: 200.0\n",
      "Final epoch: 1402 , Reward: 195.26 Max Reward: 200.0\n"
     ]
    }
   ],
   "source": [
    "all_rewards = []\n",
    "running_means = []\n",
    "saver = tf.train.Saver()\n",
    "# init = tf.global_variables_initializer()\n",
    "with tf.Session() as sess:\n",
    "    sess.run(tf.global_variables_initializer())\n",
    "#     if os.path.isfile(checkpoint_path + \".index\"):\n",
    "#         saver.restore(sess, checkpoint_path)\n",
    "#     else:\n",
    "#         sess.run(init)\n",
    "\n",
    "    for epoch in range(n_epochs):\n",
    "        \n",
    "        rewards = []\n",
    "        observations = []\n",
    "        actions = []\n",
    "        \n",
    "        state = env.reset()\n",
    "        \n",
    "        while True:\n",
    "            action_prob = sess.run(y_prob,\n",
    "                                   feed_dict = {input_state_: state.reshape([1,state_size])})\n",
    "        \n",
    "            action = np.random.choice(range(n_actions), p=action_prob.ravel())\n",
    "            obs, reward, done, info = env.step(action)\n",
    "            rewards.append(reward)\n",
    "            observations.append(state)\n",
    "            actions.append(action)\n",
    "            \n",
    "            if done:\n",
    "                discounted_reward = discount_rewards(rewards)\n",
    "                _,_ = sess.run([loss_op, train_op],\n",
    "                               feed_dict = {input_state_: np.vstack(np.array(observations)),\n",
    "                                           action_:actions,\n",
    "                                           reward_: discounted_reward}) \n",
    "                break\n",
    "            state = obs\n",
    "            \n",
    "        all_rewards.append(sum(rewards))\n",
    "        tail = all_rewards[epoch-100:epoch]\n",
    "        running_means.append(np.mean(tail))\n",
    "        \n",
    "        if np.mean(tail) >= 195:\n",
    "            saver.save(sess, \"./model.ckpt\")\n",
    "            print(\"Final epoch:\", epoch,\", Reward:\", np.mean(all_rewards[epoch-100:epoch]), \"Max Reward:\", max(all_rewards))\n",
    "            break\n",
    "        if epoch%500 == 0:\n",
    "            print(\"epoch:\", epoch,\", Reward:\", np.mean(all_rewards[epoch-100:epoch]), \"Max Reward:\", max(all_rewards))"
   ]
  },
  {
   "cell_type": "code",
   "execution_count": 10,
   "metadata": {
    "collapsed": true
   },
   "outputs": [],
   "source": [
    "import pickle\n",
    "with open(\"all_rewards.txt\", \"wb\") as fp:   \n",
    "    pickle.dump(all_rewards, fp)\n",
    "\n",
    "with open(\"running_mean.txt\", \"wb\") as fp:   \n",
    "    pickle.dump(running_means, fp)\n",
    "\n",
    "\n"
   ]
  },
  {
   "cell_type": "code",
   "execution_count": 1,
   "metadata": {
    "collapsed": true
   },
   "outputs": [],
   "source": [
    "import pickle\n",
    "import matplotlib.pyplot as plt\n",
    "%matplotlib inline\n",
    "\n",
    "with open(\"all_rewards.txt\", \"rb\") as fp:   # Unpickling\n",
    "    all_rewards = pickle.load(fp)\n",
    "    \n",
    "with open(\"running_mean.txt\", \"rb\") as fp:   # Unpickling\n",
    "    running_mean = pickle.load(fp)\n",
    "    \n",
    "# plt.plot(all_rewards)"
   ]
  },
  {
   "cell_type": "code",
   "execution_count": 2,
   "metadata": {},
   "outputs": [
    {
     "data": {
      "text/plain": [
       "[<matplotlib.lines.Line2D at 0x11caa61d0>,\n",
       " <matplotlib.lines.Line2D at 0x11caa6400>]"
      ]
     },
     "execution_count": 2,
     "metadata": {},
     "output_type": "execute_result"
    },
    {
     "data": {
      "image/png": "[encoded data removed]",
      "text/plain": [
       "<Figure size 432x288 with 1 Axes>"
      ]
     },
     "metadata": {
      "needs_background": "light"
     },
     "output_type": "display_data"
    }
   ],
   "source": [
    "plt.plot(range(len(all_rewards)), all_rewards, range(len(all_rewards)), running_mean)\n"
   ]
  },
  {
   "cell_type": "code",
   "execution_count": null,
   "metadata": {
    "collapsed": true
   },
   "outputs": [],
   "source": []
  }
 ],
 "metadata": {
  "kernelspec": {
   "display_name": "Python (dl)",
   "language": "python",
   "name": "dl"
  },
  "language_info": {
   "codemirror_mode": {
    "name": "ipython",
    "version": 3
   },
   "file_extension": ".py",
   "mimetype": "text/x-python",
   "name": "python",
   "nbconvert_exporter": "python",
   "pygments_lexer": "ipython3",
   "version": "3.6.8"
  }
 },
 "nbformat": 4,
 "nbformat_minor": 2
}
